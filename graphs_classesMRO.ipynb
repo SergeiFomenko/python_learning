{
 "cells": [
  {
   "cell_type": "markdown",
   "metadata": {},
   "source": [
    "Вам дано описание наследования классов в следующем формате.\n",
    "<имя класса 1> : <имя класса 2> <имя класса 3> ... <имя класса k>\n",
    "Это означает, что класс 1 отнаследован от класса 2, класса 3, и т. д.\n",
    "\n",
    "Или эквивалентно записи:\n",
    "\n",
    "class Class1(Class2, Class3 ... ClassK):\n",
    "    pass\n",
    "Класс A является прямым предком класса B, если B отнаследован от A:\n",
    "\n",
    "\n",
    "class B(A):\n",
    "    pass\n",
    "\n",
    "\n",
    "Класс A является предком класса B, если\n",
    "A = B;\n",
    "A - прямой предок B\n",
    "существует такой класс C, что C - прямой предок B и A - предок C\n",
    "\n",
    "Например:\n",
    "class B(A):\n",
    "    pass\n",
    "\n",
    "class C(B):\n",
    "    pass\n",
    "\n",
    "A -- предок С\n",
    "\n",
    "\n",
    "Вам необходимо отвечать на запросы, является ли один класс предком другого класса\n",
    "\n",
    "Важное примечание:\n",
    "Создавать классы не требуется.\n",
    "Мы просим вас промоделировать этот процесс, и понять существует ли путь от одного класса до другого.\n",
    "Формат входных данных\n",
    "В первой строке входных данных содержится целое число n - число классов.\n",
    "\n",
    "В следующих n строках содержится описание наследования классов. В i-й строке указано от каких классов наследуется i-й класс. Обратите внимание, что класс может ни от кого не наследоваться. Гарантируется, что класс не наследуется сам от себя (прямо или косвенно), что класс не наследуется явно от одного класса более одного раза.\n",
    "\n",
    "В следующей строке содержится число q - количество запросов.\n",
    "\n",
    "В следующих q строках содержится описание запросов в формате <имя класса 1> <имя класса 2>.\n",
    "Имя класса – строка, состоящая из символов латинского алфавита, длины не более 50.\n",
    "\n",
    "Формат выходных данных\n",
    "Для каждого запроса выведите в отдельной строке слово \"Yes\", если класс 1 является предком класса 2, и \"No\", если не является.\n",
    "\n",
    "Sample Input:\n",
    "\n",
    "4\n",
    "A\n",
    "B : A\n",
    "C : A\n",
    "D : B C\n",
    "4\n",
    "A B\n",
    "B D\n",
    "C D\n",
    "D A\n",
    "Sample Output:\n",
    "\n",
    "Yes\n",
    "Yes\n",
    "Yes\n",
    "No"
   ]
  },
  {
   "cell_type": "code",
   "execution_count": 1,
   "metadata": {},
   "outputs": [],
   "source": [
    "#тренировочные данные\n",
    "lst_mro = [  # список введённых строк\n",
    "    'G : F',  # сначала отнаследуем от F, потом его объявим, корректный алгоритм все равно правильно обойдёт граф, независимо что было раньше: наследование или объявление\n",
    "    'A',\n",
    "    'B : A',\n",
    "    'C : A',\n",
    "    'D : B C',\n",
    "    'E : D',\n",
    "    'F : D',\n",
    "    # а теперь другая ветка наследования\n",
    "    'X',\n",
    "    'Y : X A',  # свяжем две ветки наследования для проверки, обошла ли рекурсия предков Z и предков Y в поисках A\n",
    "    'Z : X',\n",
    "    'V : Z Y',\n",
    "    'W : V',\n",
    "]\n",
    "\n",
    "lst_q = [  # список введённых запросов\n",
    "    'A G',      # Yes   # A предок G через B/C, D, F\n",
    "    'A Z',      # No    # Y потомок A, но не Y\n",
    "    'A W',      # Yes   # A предок W через Y, V\n",
    "    'X W',      # Yes   # X предок W через Y, V\n",
    "    'X QWE',    # No    # нет такого класса QWE\n",
    "    'A X',      # No    # классы есть, но они нет родства :)\n",
    "    'X X',      # Yes   # родитель он же потомок\n",
    "    '1 1',      # No    # несуществующий класс\n",
    "]\n"
   ]
  },
  {
   "cell_type": "markdown",
   "metadata": {},
   "source": [
    "Генерируем словарь, в которым ключами будут являться все имеющиеся классы, а в значениях каждого ключа будут находиться унаследованные классы"
   ]
  },
  {
   "cell_type": "code",
   "execution_count": 2,
   "metadata": {},
   "outputs": [],
   "source": [
    "class_dict = {}\n",
    "for i in lst_mro:\n",
    "    line = i.split(' ')\n",
    "    child = line[0]\n",
    "    parents = line[2:]\n",
    "    if child not in class_dict.keys():\n",
    "        class_dict[child]=[]\n",
    "    for parent in parents:\n",
    "        if parent not in class_dict.keys():\n",
    "            class_dict[parent]=[]\n",
    "        class_dict[parent].append(child)"
   ]
  },
  {
   "cell_type": "code",
   "execution_count": 3,
   "metadata": {},
   "outputs": [
    {
     "data": {
      "text/plain": [
       "{'G': [],\n",
       " 'F': ['G'],\n",
       " 'A': ['B', 'C', 'Y'],\n",
       " 'B': ['D'],\n",
       " 'C': ['D'],\n",
       " 'D': ['E', 'F'],\n",
       " 'E': [],\n",
       " 'X': ['Y', 'Z'],\n",
       " 'Y': ['V'],\n",
       " 'Z': ['V'],\n",
       " 'V': ['W'],\n",
       " 'W': []}"
      ]
     },
     "execution_count": 3,
     "metadata": {},
     "output_type": "execute_result"
    }
   ],
   "source": [
    "#получили граф\n",
    "class_dict"
   ]
  },
  {
   "cell_type": "markdown",
   "metadata": {},
   "source": [
    "Функция, которая позволяет определять наличие пути между классами (иным словами наследует ли children от parent) "
   ]
  },
  {
   "cell_type": "code",
   "execution_count": 7,
   "metadata": {},
   "outputs": [],
   "source": [
    "def find_parent (dic, parent, children):\n",
    "        if (parent not in dic.keys()) or (children not in dic.keys()):\n",
    "            return False\n",
    "        else:\n",
    "            if parent==children:\n",
    "                return True\n",
    "            if children in dic[parent]:\n",
    "                return True\n",
    "            for keys in dic[parent]:\n",
    "                if find_parent (dic, keys, children)==True:\n",
    "                    return True"
   ]
  },
  {
   "cell_type": "code",
   "execution_count": 9,
   "metadata": {},
   "outputs": [
    {
     "name": "stdout",
     "output_type": "stream",
     "text": [
      "Yes\n",
      "NO\n",
      "Yes\n",
      "Yes\n",
      "NO\n",
      "NO\n",
      "Yes\n",
      "NO\n"
     ]
    }
   ],
   "source": [
    "#Проверяем справляется ли функция с задачей на тестовых данных\n",
    "for e in lst_q:\n",
    "    parent_child = e.split(' ')\n",
    "    if find_parent (class_dict, parent_child[0], parent_child[1]):\n",
    "        print ('Yes')\n",
    "    else:\n",
    "        print ('NO')"
   ]
  },
  {
   "cell_type": "markdown",
   "metadata": {},
   "source": [
    "Итоговое решение"
   ]
  },
  {
   "cell_type": "code",
   "execution_count": 10,
   "metadata": {
    "scrolled": true
   },
   "outputs": [
    {
     "name": "stdout",
     "output_type": "stream",
     "text": [
      "4\n",
      "A\n",
      "B : A\n",
      "C : A\n",
      "D : B C\n",
      "4\n",
      "A B\n",
      "Yes\n",
      "B D\n",
      "Yes\n",
      "C D\n",
      "Yes\n",
      "D A\n",
      "No\n"
     ]
    }
   ],
   "source": [
    "#функция на поиск родства\n",
    "def find_parent (dic, parent, children):\n",
    "        if (parent not in dic.keys()) or (children not in dic.keys()):\n",
    "            return False\n",
    "        else:\n",
    "            if parent==children:\n",
    "                return True\n",
    "            if children in dic[parent]:\n",
    "                return True\n",
    "            for keys in dic[parent]:\n",
    "                if find_parent (dic, keys, children): \n",
    "                    return True\n",
    "\n",
    "#считываем число классов \n",
    "classes_number = int(input())\n",
    "class_dict = {}\n",
    "#строим граф родства\n",
    "for i in range (classes_number):\n",
    "    line = input().split(' ')\n",
    "    child = line[0]\n",
    "    parents = line[2:]\n",
    "    if child not in class_dict.keys():\n",
    "        class_dict[child]=[]\n",
    "    for parent in parents:\n",
    "        if parent in class_dict.keys():\n",
    "            class_dict[parent].append(child)\n",
    "#считываем число запросов, определяем родство классов для каждого запроса          \n",
    "test_number = int(input())\n",
    "for e in range (test_number):\n",
    "    parent_child = input().split(' ')\n",
    "    if find_parent (class_dict, parent_child[0], parent_child[1]):\n",
    "        print ('Yes')\n",
    "    else:\n",
    "        print ('No')"
   ]
  },
  {
   "cell_type": "code",
   "execution_count": null,
   "metadata": {},
   "outputs": [],
   "source": []
  }
 ],
 "metadata": {
  "kernelspec": {
   "display_name": "Python 3",
   "language": "python",
   "name": "python3"
  },
  "language_info": {
   "codemirror_mode": {
    "name": "ipython",
    "version": 3
   },
   "file_extension": ".py",
   "mimetype": "text/x-python",
   "name": "python",
   "nbconvert_exporter": "python",
   "pygments_lexer": "ipython3",
   "version": "3.7.3"
  }
 },
 "nbformat": 4,
 "nbformat_minor": 4
}
