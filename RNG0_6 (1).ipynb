{
 "cells": [
  {
   "cell_type": "markdown",
   "metadata": {},
   "source": [
    "Дан метод, генерирующий случайные целые числа равномерно в диапазоне от 0 до 4 (включительно). Напишите метод, который использует его для генерирования случайный целых чисел в диапазоне от 0 до 6 (включительно).\n",
    "\n",
    "Пояснение: переменная bin_num - двоичная запись случайного числа от 0 до 7. Выпадение 1 или 2 добавляет в bin_num 0. 1 или 3 добавляет в bin_num 1. Если выпало 4 - заново запускаем генератор, чтобы вероятность получения 0 и 1 был одинаковым (по 1/2). На выходе получаем одно из 8 чисел (от 000 до 111) с равными вероятностями выпадения. Перезапускаем генератор, если выпадает 111(7), чтобы оставались только числа от 0 до 6. Переводим число в десятичную форму."
   ]
  },
  {
   "cell_type": "code",
   "execution_count": 5,
   "metadata": {},
   "outputs": [],
   "source": [
    "import random\n",
    "import pandas as pd\n"
   ]
  },
  {
   "cell_type": "code",
   "execution_count": 6,
   "metadata": {},
   "outputs": [],
   "source": [
    "#генератор чисел от 0 до 4\n",
    "def rand0_4(x):\n",
    "    n = random.randint(0,4)\n",
    "    return n"
   ]
  },
  {
   "cell_type": "code",
   "execution_count": 7,
   "metadata": {},
   "outputs": [
    {
     "data": {
      "text/plain": [
       "4"
      ]
     },
     "execution_count": 7,
     "metadata": {},
     "output_type": "execute_result"
    }
   ],
   "source": [
    "rand0_4(1)"
   ]
  },
  {
   "cell_type": "code",
   "execution_count": 4,
   "metadata": {},
   "outputs": [],
   "source": [
    "#генератор число от 0 до 6\n",
    "def rand0_6(bin_num=''):\n",
    "    while len(bin_num)<3:\n",
    "        rng = rand0_4(1)\n",
    "        if rng in [0,2]:\n",
    "            bin_num+='0'\n",
    "        elif rng in [1,3]:\n",
    "            bin_num+='1'\n",
    "        else:\n",
    "            continue\n",
    "        if bin_num=='111':\n",
    "            bin_num=''\n",
    "            continue\n",
    "    return int(bin_num,2)"
   ]
  },
  {
   "cell_type": "code",
   "execution_count": 8,
   "metadata": {},
   "outputs": [],
   "source": [
    "def rand0_6():\n",
    "    bin_num=''\n",
    "    while len(bin_num)<3:\n",
    "        rng = rand0_4(1)\n",
    "        if rng in [0,2]:\n",
    "            bin_num+='0'\n",
    "        elif rng in [1,3]:\n",
    "            bin_num+='1'\n",
    "        else:\n",
    "            continue\n",
    "        if bin_num=='111':\n",
    "            bin_num=''\n",
    "            continue\n",
    "    return int(bin_num,2)"
   ]
  },
  {
   "cell_type": "code",
   "execution_count": 10,
   "metadata": {},
   "outputs": [
    {
     "data": {
      "text/plain": [
       "3"
      ]
     },
     "execution_count": 10,
     "metadata": {},
     "output_type": "execute_result"
    }
   ],
   "source": [
    "rand0_6()"
   ]
  },
  {
   "cell_type": "code",
   "execution_count": 6,
   "metadata": {},
   "outputs": [
    {
     "data": {
      "text/plain": [
       "5    1533\n",
       "4    1428\n",
       "6    1427\n",
       "2    1416\n",
       "3    1411\n",
       "1    1399\n",
       "0    1386\n",
       "dtype: int64"
      ]
     },
     "execution_count": 6,
     "metadata": {},
     "output_type": "execute_result"
    }
   ],
   "source": [
    "#проверям работу генератора\n",
    "nums=[]\n",
    "for i in range (10000):\n",
    "    nums.append(rand0_6())\n",
    "pd.Series(nums).value_counts()"
   ]
  }
 ],
 "metadata": {
  "kernelspec": {
   "display_name": "Python 3",
   "language": "python",
   "name": "python3"
  },
  "language_info": {
   "codemirror_mode": {
    "name": "ipython",
    "version": 3
   },
   "file_extension": ".py",
   "mimetype": "text/x-python",
   "name": "python",
   "nbconvert_exporter": "python",
   "pygments_lexer": "ipython3",
   "version": "3.7.3"
  }
 },
 "nbformat": 4,
 "nbformat_minor": 4
}
